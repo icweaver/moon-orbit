{
 "cells": [
  {
   "cell_type": "code",
   "execution_count": 1,
   "metadata": {
    "collapsed": true
   },
   "outputs": [],
   "source": [
    "import matplotlib.pylab as plt\n",
    "import numpy as np\n",
    "import seaborn as sns\n",
    "\n",
    "from astropy import units as u\n",
    "from astropy import constants as c\n",
    "\n",
    "%matplotlib inline"
   ]
  },
  {
   "cell_type": "code",
   "execution_count": 2,
   "metadata": {},
   "outputs": [],
   "source": [
    "sns.set_style('darkgrid')"
   ]
  },
  {
   "cell_type": "markdown",
   "metadata": {},
   "source": [
    "## Constants"
   ]
  },
  {
   "cell_type": "code",
   "execution_count": 3,
   "metadata": {
    "collapsed": true
   },
   "outputs": [],
   "source": [
    "# cgs units\n",
    "solMass   = (1 * u.solMass).cgs.value\n",
    "jupMass   = (2 * u.jupiterMass).cgs.value\n",
    "earthMass = (1 * u.earthMass).cgs.value\n",
    "G         = (1 * c.G).cgs.value\n",
    "AU        = (1 * u.au).cgs.value\n",
    "year      = (1 * u.year).cgs.value\n",
    "day       = (1 * u.day).cgs.value"
   ]
  },
  {
   "cell_type": "markdown",
   "metadata": {},
   "source": [
    "## Derivatives"
   ]
  },
  {
   "cell_type": "markdown",
   "metadata": {},
   "source": [
    "Calculates velocity and acceleration on $m_i$ due to $m_j$ and $m_k$"
   ]
  },
  {
   "cell_type": "code",
   "execution_count": 4,
   "metadata": {
    "collapsed": true
   },
   "outputs": [],
   "source": [
    "def sho_func(t, uin_i, m_j, uin_j, m_k, uin_k):\n",
    "    # position and velocity\n",
    "    r_i = uin_i[:2]\n",
    "    v_i = uin_i[2:]\n",
    "    \n",
    "    r_j = uin_j[:2]\n",
    "    r_k = uin_k[:2] \n",
    "    # position vector pointing from one of the two masses to m_i\n",
    "    d_ij = np.linalg.norm(r_j - r_i)\n",
    "    d_ik = np.linalg.norm(r_k - r_i)\n",
    "\n",
    "    # calulating accelerations\n",
    "    g = (G*m_j/d_ij**3) * (r_j - r_i) + (G*m_k/d_ik**3) * (r_k - r_i)\n",
    "    \n",
    "    derivs = np.ndarray(4)\n",
    "    derivs[:2] = v_i\n",
    "    derivs[2:] = g\n",
    "    \n",
    "    return derivs"
   ]
  },
  {
   "cell_type": "markdown",
   "metadata": {},
   "source": [
    "## Integrator"
   ]
  },
  {
   "cell_type": "code",
   "execution_count": 5,
   "metadata": {
    "collapsed": true
   },
   "outputs": [],
   "source": [
    "def sho_RK4(t, uold_i, m_j, uold_j, m_k, uold_k, dt):\n",
    "    K1 = sho_func(t, uold_i, m_j, uold_j, m_k, uold_k)\n",
    "    K2 = sho_func(t + dt/2, uold_i + K1*dt/2, m_j, uold_j, m_k, uold_k)\n",
    "    K3 = sho_func(t + dt/2, uold_i + K2*dt/2, m_j, uold_j, m_k, uold_k)\n",
    "    K4 = sho_func(t + dt, uold_i + K3*dt, m_j, uold_j, m_k, uold_k)\n",
    "    \n",
    "    unew_i = uold_i + (dt/6)*(K1 + 2*(K2 + K3) + K4)\n",
    "    return unew_i"
   ]
  },
  {
   "cell_type": "markdown",
   "metadata": {},
   "source": [
    "### Initial Conditions"
   ]
  },
  {
   "cell_type": "markdown",
   "metadata": {},
   "source": [
    "$q \\equiv m_3 / m_2$"
   ]
  },
  {
   "cell_type": "code",
   "execution_count": 74,
   "metadata": {
    "code_folding": [
     6
    ]
   },
   "outputs": [],
   "source": [
    "q   = 0.1\n",
    "m_1 = solMass # host star\n",
    "m_2 = jupMass #m_1 / 5000 # hot jupiter\n",
    "m_3 = q * m_2  # companion\n",
    "\n",
    "# m1 (host star)\n",
    "x_1  =  0.0\n",
    "y_1  =  0.1\n",
    "vx_1 =  0.0\n",
    "vy_1 =  0.0\n",
    "\n",
    "# m2 (hot jupiter)\n",
    "x_2  = -0.02 * AU\n",
    "y_2  =  0.1\n",
    "vx_2 =  0.0\n",
    "vy_2 = -np.sqrt(G*m_1/np.abs(x_2))\n",
    "\n",
    "# m3 (companion)\n",
    "x_3  = x_2 \n",
    "y_3  =  - 38.44E9\n",
    "vx_3 =  0.0\n",
    "vy_3 = vy_2 # relative to m_2\n",
    "\n",
    "T0 = 2*np.pi*np.sqrt(np.abs(x_2)**3/(G*m_1))\n",
    "tmax  = T0 / 2\n",
    "\n",
    "uold_1 = np.array( [x_1, y_1, vx_1, vy_1] )\n",
    "uold_2 = np.array( [x_2, y_2, vx_2, vy_2] )\n",
    "uold_3 = np.array( [x_3, y_3, vx_3, vy_3] )\n",
    "\n",
    "m1_coord = uold_1\n",
    "m2_coord = uold_2\n",
    "m3_coord = uold_3\n",
    "\n",
    "t = 0\n",
    "while (t <= tmax):\n",
    "    # v0 based on speed at beginning of current timestep\n",
    "    f = -1\n",
    "    r0 = np.sqrt( (uold_3[0] - uold_2[0])**2 + (uold_3[1] - uold_2[1])**2 )\n",
    "    v0 = np.sqrt(uold_3[2]**2 + uold_3[3]**2) \n",
    "    dt = 10**(f) * r0 / v0\n",
    "    \n",
    "    unew_1 = sho_RK4(t, uold_1, m_2, uold_2, m_3, uold_3, dt) # sun\n",
    "    unew_2 = sho_RK4(t, uold_2, m_1, uold_1, m_3, uold_3, dt) # earth\n",
    "    unew_3 = sho_RK4(t, uold_3, m_1, uold_1, m_2, uold_2, dt) # moon\n",
    "    \n",
    "    m1_coord = np.vstack( (m1_coord, unew_1) )\n",
    "    m2_coord = np.vstack( (m2_coord, unew_2) )\n",
    "    m3_coord = np.vstack( (m3_coord, unew_3) )\n",
    "    \n",
    "    # step forward\n",
    "    uold_1 = unew_1 \n",
    "    uold_2 = unew_2\n",
    "    uold_3 = unew_3\n",
    "    t += dt"
   ]
  },
  {
   "cell_type": "code",
   "execution_count": 88,
   "metadata": {},
   "outputs": [
    {
     "data": {
      "image/png": "[encoded data removed]",
      "text/plain": [
       "<matplotlib.figure.Figure at 0x11c83c940>"
      ]
     },
     "metadata": {},
     "output_type": "display_data"
    }
   ],
   "source": [
    "fig, ax = plt.subplots(1,1)\n",
    "\n",
    "colors = [\"reddish\", \"amber\", \"windows blue\"]#, \"faded green\", \"dusty purple\"]\n",
    "sns.set_palette(sns.xkcd_palette(colors))\n",
    "\n",
    "ax.set_aspect(\"equal\")\n",
    "\n",
    "x_1 = m1_coord[:,0]\n",
    "y_1 = m1_coord[:,1]\n",
    "x_2 = m2_coord[:,0]\n",
    "y_2 = m2_coord[:,1]\n",
    "x_3 = m3_coord[:,0]\n",
    "y_3 = m3_coord[:,1]\n",
    "\n",
    "ax.plot(x_1, y_1, label='host star')\n",
    "ax.plot(x_2, y_2, label='hot jupiter')\n",
    "ax.plot(x_3, y_3, label='companion')\n",
    "\n",
    "#ax.plot(x_3[100]/AU, y_3[100]/AU, 'ro')\n",
    "\n",
    "lim = 1.3*np.abs(x_2[0])\n",
    "ax.set_xlim(-lim, lim)\n",
    "ax.set_ylim(-lim, lim)\n",
    "ax.legend()\n",
    "\n",
    "plt.show()"
   ]
  },
  {
   "cell_type": "code",
   "execution_count": 64,
   "metadata": {},
   "outputs": [
    {
     "data": {
      "text/plain": [
       "array([ -4.68087111e+05,  -8.68559278e+03,  -1.70466647e+03,\n",
       "        -4.13400791e+01])"
      ]
     },
     "execution_count": 64,
     "metadata": {},
     "output_type": "execute_result"
    }
   ],
   "source": [
    "m1_list[:][3]"
   ]
  },
  {
   "cell_type": "markdown",
   "metadata": {},
   "source": [
    "# Animate"
   ]
  },
  {
   "cell_type": "code",
   "execution_count": null,
   "metadata": {
    "collapsed": true
   },
   "outputs": [],
   "source": [
    "from matplotlib import animation, rc\n",
    "from IPython.display import HTML"
   ]
  },
  {
   "cell_type": "code",
   "execution_count": null,
   "metadata": {},
   "outputs": [],
   "source": [
    "fig, ax = plt.subplots()\n",
    "lim = 1\n",
    "ax.set_xlim((-lim, lim))\n",
    "ax.set_ylim((-lim, lim))\n",
    "\n",
    "line, = ax.plot([], [], lw=2)\n",
    "line2, = ax.plot([], [], lw=2)\n",
    "line3, = ax.plot([], [], lw=2)\n",
    "line = [line, line2, line3]\n",
    "\n",
    "# initialization function: plot the background of each frame\n",
    "def init():\n",
    "    line[0].set_data([], [])\n",
    "    line[1].set_data([], [])\n",
    "    line[2].set_data([], [])\n",
    "    return line\n",
    "\n",
    "# animation function. This is called sequentially\n",
    "def animate(i):\n",
    "   # plot the trajectory\n",
    "    line[0].set_data(x_2[:i+1] / AU, y_2[:i+1] / AU) \n",
    "    # the +1 makes it inclusive\n",
    "    line[0].set_color('orange')\n",
    "    \n",
    "    # add a point at the beginning\n",
    "    line[1].set_data(x_2[0] / AU, y_2[0] / AU)\n",
    "    line[1].set_marker('o')\n",
    "    line[1].set_color('g')\n",
    "    \n",
    "    # add a point at the end\n",
    "    line[2].set_data(x_2[i] / AU, y_2[i] / AU)\n",
    "    line[2].set_marker('o')\n",
    "    line[2].set_color('r')\n",
    "    \n",
    "    return line"
   ]
  },
  {
   "cell_type": "code",
   "execution_count": null,
   "metadata": {
    "collapsed": true
   },
   "outputs": [],
   "source": [
    "# call the animator. blit=True re-draws just the parts that have \n",
    "# changed to make things a bit faster\n",
    "\n",
    "# remove white margin\n",
    "fig.subplots_adjust(left=0, bottom=0, right=1, top=1, \n",
    "                    wspace=None, hspace=None)\n",
    "N = len(x_2)\n",
    "anim = animation.FuncAnimation(fig, animate, init_func=init, frames=int(N), interval=50, blit=True)\n",
    "HTML(anim.to_html5_video())"
   ]
  }
 ],
 "metadata": {
  "kernelspec": {
   "display_name": "Python 3",
   "language": "python",
   "name": "python3"
  },
  "language_info": {
   "codemirror_mode": {
    "name": "ipython",
    "version": 3
   },
   "file_extension": ".py",
   "mimetype": "text/x-python",
   "name": "python",
   "nbconvert_exporter": "python",
   "pygments_lexer": "ipython3",
   "version": "3.6.1"
  },
  "toc": {
   "colors": {
    "hover_highlight": "#ffffff",
    "navigate_num": "#000000",
    "navigate_text": "#ffffff",
    "running_highlight": "#4dff05",
    "selected_highlight": "#FFD700",
    "sidebar_border": "#EEEEEE",
    "wrapper_background": "#000000"
   },
   "moveMenuLeft": true,
   "nav_menu": {
    "height": "89px",
    "width": "254px"
   },
   "navigate_menu": true,
   "number_sections": false,
   "sideBar": true,
   "threshold": 4,
   "toc_cell": false,
   "toc_section_display": "block",
   "toc_window_display": false,
   "widenNotebook": false
  }
 },
 "nbformat": 4,
 "nbformat_minor": 2
}
